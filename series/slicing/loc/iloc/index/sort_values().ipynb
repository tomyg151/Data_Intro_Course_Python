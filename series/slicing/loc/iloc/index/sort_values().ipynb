{
  "nbformat": 4,
  "nbformat_minor": 0,
  "metadata": {
    "colab": {
      "provenance": [],
      "authorship_tag": "ABX9TyO2S7Di5FOoU5uS/r9Ehdmz",
      "include_colab_link": true
    },
    "kernelspec": {
      "name": "python3",
      "display_name": "Python 3"
    },
    "language_info": {
      "name": "python"
    }
  },
  "cells": [
    {
      "cell_type": "markdown",
      "metadata": {
        "id": "view-in-github",
        "colab_type": "text"
      },
      "source": [
        "<a href=\"https://colab.research.google.com/github/tomyg151/Data_Intro_Course_Python/blob/main/series/slicing/loc/iloc/index/sort_values().ipynb\" target=\"_parent\"><img src=\"https://colab.research.google.com/assets/colab-badge.svg\" alt=\"Open In Colab\"/></a>"
      ]
    },
    {
      "cell_type": "markdown",
      "source": [
        " pandas ייבוא של ספריית "
      ],
      "metadata": {
        "id": "vlXY7DMQ4VNH"
      }
    },
    {
      "cell_type": "code",
      "execution_count": 5,
      "metadata": {
        "id": "bsMRb9y84PF5"
      },
      "outputs": [],
      "source": [
        "import pandas as pd"
      ]
    },
    {
      "cell_type": "markdown",
      "source": [
        "יצירת שתי רשימות לדוגמה (אחת של מס' ואחץ של מחרוזות)"
      ],
      "metadata": {
        "id": "gd3o1X7jT08E"
      }
    },
    {
      "cell_type": "code",
      "source": [
        "series_of_numbers = pd.Series([1,4,20,45,32,8])\n",
        "series_of_strings = pd.Series(['a','this','apple','Love','Water','is'])"
      ],
      "metadata": {
        "id": "Qwa-4Q6hTJnJ"
      },
      "execution_count": 14,
      "outputs": []
    },
    {
      "cell_type": "markdown",
      "source": [
        "הדפסת רשימת המחרוזות"
      ],
      "metadata": {
        "id": "OCgksFULT989"
      }
    },
    {
      "cell_type": "code",
      "source": [
        "print(series_of_strings)"
      ],
      "metadata": {
        "colab": {
          "base_uri": "https://localhost:8080/"
        },
        "id": "KEJdvWzkTn6R",
        "outputId": "562ae1c5-d2a3-4514-9e97-8ddb7c36587b"
      },
      "execution_count": 15,
      "outputs": [
        {
          "output_type": "stream",
          "name": "stdout",
          "text": [
            "0        a\n",
            "1     this\n",
            "2    apple\n",
            "3     Love\n",
            "4    Water\n",
            "5       is\n",
            "dtype: object\n"
          ]
        }
      ]
    },
    {
      "cell_type": "markdown",
      "source": [
        "מיון רשימת המחרוזות"
      ],
      "metadata": {
        "id": "EZiKmk-wVdJx"
      }
    },
    {
      "cell_type": "code",
      "source": [
        "sorted_series = series_of_strings.sort_values()"
      ],
      "metadata": {
        "id": "FxiHWSoATzX4"
      },
      "execution_count": 16,
      "outputs": []
    },
    {
      "cell_type": "code",
      "source": [
        "print(sorted_series)"
      ],
      "metadata": {
        "colab": {
          "base_uri": "https://localhost:8080/"
        },
        "id": "RcJlTAuOVhW9",
        "outputId": "d2bf4f63-81ec-4faf-c0c6-fa1eed1dcce7"
      },
      "execution_count": 17,
      "outputs": [
        {
          "output_type": "stream",
          "name": "stdout",
          "text": [
            "3     Love\n",
            "4    Water\n",
            "0        a\n",
            "2    apple\n",
            "5       is\n",
            "1     this\n",
            "dtype: object\n"
          ]
        }
      ]
    },
    {
      "cell_type": "markdown",
      "source": [
        "loc הדפסת ההמחרוזות עם מיקום 0 דרך פונקציית "
      ],
      "metadata": {
        "id": "f8Os11LTWSB8"
      }
    },
    {
      "cell_type": "code",
      "source": [
        "print(series_of_strings.loc[0])\n",
        "print(sorted_series.loc[0])"
      ],
      "metadata": {
        "colab": {
          "base_uri": "https://localhost:8080/"
        },
        "id": "5whIB788VvCz",
        "outputId": "fe5df964-a6ad-4f54-c6f6-0046d9316590"
      },
      "execution_count": 18,
      "outputs": [
        {
          "output_type": "stream",
          "name": "stdout",
          "text": [
            "a\n",
            "a\n"
          ]
        }
      ]
    },
    {
      "cell_type": "code",
      "source": [
        "print(series_of_strings)\n",
        "print(sorted_series)"
      ],
      "metadata": {
        "colab": {
          "base_uri": "https://localhost:8080/"
        },
        "id": "ZTcf0dnQX8fC",
        "outputId": "56bbbed5-4c32-4d9f-fd1f-654ba8675da7"
      },
      "execution_count": 19,
      "outputs": [
        {
          "output_type": "stream",
          "name": "stdout",
          "text": [
            "0        a\n",
            "1     this\n",
            "2    apple\n",
            "3     Love\n",
            "4    Water\n",
            "5       is\n",
            "dtype: object\n",
            "3     Love\n",
            "4    Water\n",
            "0        a\n",
            "2    apple\n",
            "5       is\n",
            "1     this\n",
            "dtype: object\n"
          ]
        }
      ]
    },
    {
      "cell_type": "markdown",
      "source": [
        "iloc הדפסת הרשימות בעזרת "
      ],
      "metadata": {
        "id": "9bk4q-vJZI1x"
      }
    },
    {
      "cell_type": "code",
      "source": [
        "print(series_of_strings.iloc[0])\n",
        "print(sorted_series.iloc[0])"
      ],
      "metadata": {
        "colab": {
          "base_uri": "https://localhost:8080/"
        },
        "id": "BgzfHMdFX_5Q",
        "outputId": "ba13c9bb-2a28-41a9-82c9-91e936f4f6a8"
      },
      "execution_count": 20,
      "outputs": [
        {
          "output_type": "stream",
          "name": "stdout",
          "text": [
            "a\n",
            "Love\n"
          ]
        }
      ]
    },
    {
      "cell_type": "code",
      "source": [
        "print(series_of_strings)\n",
        "print()\n",
        "print(sorted_series)"
      ],
      "metadata": {
        "colab": {
          "base_uri": "https://localhost:8080/"
        },
        "id": "MjltdIYuYmsV",
        "outputId": "0dcb6433-b087-4d80-dadb-9c314442949b"
      },
      "execution_count": 28,
      "outputs": [
        {
          "output_type": "stream",
          "name": "stdout",
          "text": [
            "0        a\n",
            "1     this\n",
            "2    apple\n",
            "3     Love\n",
            "4    Water\n",
            "5       is\n",
            "dtype: object\n",
            "\n",
            "3     Love\n",
            "4    Water\n",
            "0        a\n",
            "2    apple\n",
            "5       is\n",
            "1     this\n",
            "dtype: object\n"
          ]
        }
      ]
    },
    {
      "cell_type": "markdown",
      "source": [
        "slicing"
      ],
      "metadata": {
        "id": "Thy6r1x6ZpOW"
      }
    },
    {
      "cell_type": "code",
      "source": [
        "print(series_of_strings.iloc[2:4])\n",
        "print()\n",
        "print(sorted_series.iloc[2:4])\n",
        "print()\n",
        "print(series_of_strings[2:4])"
      ],
      "metadata": {
        "colab": {
          "base_uri": "https://localhost:8080/"
        },
        "id": "NDWeEKooZQxR",
        "outputId": "c81304a6-d895-4b17-f530-70a4e5292fd6"
      },
      "execution_count": 80,
      "outputs": [
        {
          "output_type": "stream",
          "name": "stdout",
          "text": [
            "third     apple\n",
            "fourth     Love\n",
            "dtype: object\n",
            "\n",
            "0        a\n",
            "2    apple\n",
            "dtype: object\n",
            "\n",
            "third     apple\n",
            "fourth     Love\n",
            "dtype: object\n"
          ]
        }
      ]
    },
    {
      "cell_type": "markdown",
      "source": [
        "שינוי ערך האינדקסים על פי הצורך"
      ],
      "metadata": {
        "id": "nR6vdI16aISp"
      }
    },
    {
      "cell_type": "code",
      "source": [
        "series_of_strings.index = ['first','secend','third','fourth','fifth','sixth']"
      ],
      "metadata": {
        "id": "b64CSqNIZsKN"
      },
      "execution_count": 31,
      "outputs": []
    },
    {
      "cell_type": "code",
      "source": [
        "series_of_strings.loc['secend']"
      ],
      "metadata": {
        "colab": {
          "base_uri": "https://localhost:8080/",
          "height": 35
        },
        "id": "DHI9KpwVaDIz",
        "outputId": "734c96ec-7303-4b22-db35-00df62771d8e"
      },
      "execution_count": 35,
      "outputs": [
        {
          "output_type": "execute_result",
          "data": {
            "text/plain": [
              "'this'"
            ],
            "application/vnd.google.colaboratory.intrinsic+json": {
              "type": "string"
            }
          },
          "metadata": {},
          "execution_count": 35
        }
      ]
    },
    {
      "cell_type": "code",
      "source": [
        "print(series_of_strings)\n",
        "print()\n",
        "print(series_of_strings.iloc[2::2])"
      ],
      "metadata": {
        "colab": {
          "base_uri": "https://localhost:8080/"
        },
        "id": "iFWoVivMaG0e",
        "outputId": "41d5dc0e-5762-48a7-b3f5-099ebaa85ae5"
      },
      "execution_count": 38,
      "outputs": [
        {
          "output_type": "stream",
          "name": "stdout",
          "text": [
            "first         a\n",
            "secend     this\n",
            "third     apple\n",
            "fourth     Love\n",
            "fifth     Water\n",
            "sixth        is\n",
            "dtype: object\n",
            "\n",
            "third    apple\n",
            "fifth    Water\n",
            "dtype: object\n"
          ]
        }
      ]
    },
    {
      "cell_type": "code",
      "source": [
        " new_series_of_strings = pd.Series(['this','is','a','Pandas','Series'])"
      ],
      "metadata": {
        "id": "FNJJ2jcafU5j"
      },
      "execution_count": 53,
      "outputs": []
    },
    {
      "cell_type": "code",
      "source": [
        "new_sorted = new_series_of_strings.sort_values()"
      ],
      "metadata": {
        "id": "ngk5cgDRfjOo"
      },
      "execution_count": 44,
      "outputs": []
    },
    {
      "cell_type": "code",
      "source": [
        "print(new_sorted)"
      ],
      "metadata": {
        "colab": {
          "base_uri": "https://localhost:8080/"
        },
        "id": "mqYuM0zkgBuB",
        "outputId": "4664959c-b1bf-4214-d4cc-71d59c5412f9"
      },
      "execution_count": 45,
      "outputs": [
        {
          "output_type": "stream",
          "name": "stdout",
          "text": [
            "3    Pandas\n",
            "4    Series\n",
            "2         a\n",
            "1        is\n",
            "0      this\n",
            "dtype: object\n"
          ]
        }
      ]
    },
    {
      "cell_type": "markdown",
      "source": [
        "iloc יוצרים רשימה לפי מיקומים דרך פונקציית "
      ],
      "metadata": {
        "id": "D0kx8ZrniTnG"
      }
    },
    {
      "cell_type": "code",
      "source": [
        "print(new_series_of_strings.iloc[[3,1,2,3,4]])\n"
      ],
      "metadata": {
        "colab": {
          "base_uri": "https://localhost:8080/"
        },
        "id": "uDZcw6JUff0B",
        "outputId": "ba6de86f-9724-4544-d471-07880f914739"
      },
      "execution_count": 60,
      "outputs": [
        {
          "output_type": "stream",
          "name": "stdout",
          "text": [
            "3    Pandas\n",
            "1        is\n",
            "2         a\n",
            "3    Pandas\n",
            "4    Series\n",
            "dtype: object\n"
          ]
        }
      ]
    },
    {
      "cell_type": "markdown",
      "source": [
        "ביצוע שליפה רגיל של הרשימת מחרוזות, ואז ביצוע שליפה מיוחד"
      ],
      "metadata": {
        "id": "48ugC5e0lYCw"
      }
    },
    {
      "cell_type": "code",
      "source": [
        "print(new_series_of_strings)\n",
        "print()\n",
        "new_series_of_strings.index = ['first','secend','secend','secend','fifth']\n",
        "print(new_series_of_strings['secend'])"
      ],
      "metadata": {
        "colab": {
          "base_uri": "https://localhost:8080/"
        },
        "id": "jcQSrhAklMzW",
        "outputId": "9960a8f6-6fbe-4f86-ea9d-3abefb54fc9e"
      },
      "execution_count": 86,
      "outputs": [
        {
          "output_type": "stream",
          "name": "stdout",
          "text": [
            "first       this\n",
            "secend        is\n",
            "secend         a\n",
            "secend    Pandas\n",
            "fifth     Series\n",
            "dtype: object\n",
            "\n",
            "secend        is\n",
            "secend         a\n",
            "secend    Pandas\n",
            "dtype: object\n"
          ]
        }
      ]
    }
  ]
}