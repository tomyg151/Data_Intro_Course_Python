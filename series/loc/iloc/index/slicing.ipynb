{
  "nbformat": 4,
  "nbformat_minor": 0,
  "metadata": {
    "colab": {
      "provenance": [],
      "authorship_tag": "ABX9TyNJ3d7Udby3Z01sNz8LSs34",
      "include_colab_link": true
    },
    "kernelspec": {
      "name": "python3",
      "display_name": "Python 3"
    },
    "language_info": {
      "name": "python"
    }
  },
  "cells": [
    {
      "cell_type": "markdown",
      "metadata": {
        "id": "view-in-github",
        "colab_type": "text"
      },
      "source": [
        "<a href=\"https://colab.research.google.com/github/tomyg151/Data_Intro_Course_Python/blob/main/series/loc/iloc/index/slicing.ipynb\" target=\"_parent\"><img src=\"https://colab.research.google.com/assets/colab-badge.svg\" alt=\"Open In Colab\"/></a>"
      ]
    },
    {
      "cell_type": "markdown",
      "source": [
        " pandas ייבוא של ספריית "
      ],
      "metadata": {
        "id": "vlXY7DMQ4VNH"
      }
    },
    {
      "cell_type": "code",
      "execution_count": 5,
      "metadata": {
        "id": "bsMRb9y84PF5"
      },
      "outputs": [],
      "source": [
        "import pandas as pd"
      ]
    },
    {
      "cell_type": "markdown",
      "source": [
        "\n",
        "\n",
        "*   'artist' פנדס טוענת משתנה מסוג דאטה פריים שנקרא\n",
        "*   GitHub העלינו לשרת את הקובץ ויצרנו עבורו קישור. אפשר לעשות זאת באמצעות \n",
        "\n",
        "אם אנחנו לא בטוחים מהו הסימן המפריד בקובץ ה-CSV שאנחנו טוענים, אפשר להוסיף את הארגומנטים  'sep=None' ו-'engine=python', כך:"
      ],
      "metadata": {
        "id": "20WYNMv34hWj"
      }
    },
    {
      "cell_type": "code",
      "source": [
        "url = 'https://s3.eu-west-1.amazonaws.com/data.cyber.org.il/virtual_courses/introdata/colab/artists.csv'\n",
        "artist = pd.read_csv(url, sep=None, engine='python')"
      ],
      "metadata": {
        "id": "jRRPGYx-43ut"
      },
      "execution_count": null,
      "outputs": []
    },
    {
      "cell_type": "markdown",
      "source": [
        "'artist' הרצת חמש השורות הראשונות של טבלת    "
      ],
      "metadata": {
        "id": "ZvFyx3U56OaZ"
      }
    },
    {
      "cell_type": "code",
      "source": [
        "artist.head(5)"
      ],
      "metadata": {
        "colab": {
          "base_uri": "https://localhost:8080/",
          "height": 206
        },
        "id": "rkqsqwuL45TQ",
        "outputId": "1ab38ca1-ac74-4252-8e4c-c8589363e215"
      },
      "execution_count": null,
      "outputs": [
        {
          "output_type": "execute_result",
          "data": {
            "text/plain": [
              "                       id  followers genres  \\\n",
              "0  0DheY5irMjBUeLybbCUEZ2        0.0     []   \n",
              "1  0DlhY15l3wsrnlfGio2bjU        5.0     []   \n",
              "2  0DmRESX2JknGPQyO15yxg7        0.0     []   \n",
              "3  0DmhnbHjm1qw6NCYPeZNgJ        0.0     []   \n",
              "4  0Dn11fWM7vHQ3rinvWEl4E        2.0     []   \n",
              "\n",
              "                                             name  popularity  \n",
              "0  Armid & Amir Zare Pashai feat. Sara Rouzbehani           0  \n",
              "1                                     ปูนา ภาวิณี           0  \n",
              "2                                           Sadaa           0  \n",
              "3                                       Tra'gruda           0  \n",
              "4                          Ioannis Panoutsopoulos           0  "
            ],
            "text/html": [
              "\n",
              "  <div id=\"df-8a9a73dc-1c4d-4e70-8432-d4fc0da82e58\">\n",
              "    <div class=\"colab-df-container\">\n",
              "      <div>\n",
              "<style scoped>\n",
              "    .dataframe tbody tr th:only-of-type {\n",
              "        vertical-align: middle;\n",
              "    }\n",
              "\n",
              "    .dataframe tbody tr th {\n",
              "        vertical-align: top;\n",
              "    }\n",
              "\n",
              "    .dataframe thead th {\n",
              "        text-align: right;\n",
              "    }\n",
              "</style>\n",
              "<table border=\"1\" class=\"dataframe\">\n",
              "  <thead>\n",
              "    <tr style=\"text-align: right;\">\n",
              "      <th></th>\n",
              "      <th>id</th>\n",
              "      <th>followers</th>\n",
              "      <th>genres</th>\n",
              "      <th>name</th>\n",
              "      <th>popularity</th>\n",
              "    </tr>\n",
              "  </thead>\n",
              "  <tbody>\n",
              "    <tr>\n",
              "      <th>0</th>\n",
              "      <td>0DheY5irMjBUeLybbCUEZ2</td>\n",
              "      <td>0.0</td>\n",
              "      <td>[]</td>\n",
              "      <td>Armid &amp; Amir Zare Pashai feat. Sara Rouzbehani</td>\n",
              "      <td>0</td>\n",
              "    </tr>\n",
              "    <tr>\n",
              "      <th>1</th>\n",
              "      <td>0DlhY15l3wsrnlfGio2bjU</td>\n",
              "      <td>5.0</td>\n",
              "      <td>[]</td>\n",
              "      <td>ปูนา ภาวิณี</td>\n",
              "      <td>0</td>\n",
              "    </tr>\n",
              "    <tr>\n",
              "      <th>2</th>\n",
              "      <td>0DmRESX2JknGPQyO15yxg7</td>\n",
              "      <td>0.0</td>\n",
              "      <td>[]</td>\n",
              "      <td>Sadaa</td>\n",
              "      <td>0</td>\n",
              "    </tr>\n",
              "    <tr>\n",
              "      <th>3</th>\n",
              "      <td>0DmhnbHjm1qw6NCYPeZNgJ</td>\n",
              "      <td>0.0</td>\n",
              "      <td>[]</td>\n",
              "      <td>Tra'gruda</td>\n",
              "      <td>0</td>\n",
              "    </tr>\n",
              "    <tr>\n",
              "      <th>4</th>\n",
              "      <td>0Dn11fWM7vHQ3rinvWEl4E</td>\n",
              "      <td>2.0</td>\n",
              "      <td>[]</td>\n",
              "      <td>Ioannis Panoutsopoulos</td>\n",
              "      <td>0</td>\n",
              "    </tr>\n",
              "  </tbody>\n",
              "</table>\n",
              "</div>\n",
              "      <button class=\"colab-df-convert\" onclick=\"convertToInteractive('df-8a9a73dc-1c4d-4e70-8432-d4fc0da82e58')\"\n",
              "              title=\"Convert this dataframe to an interactive table.\"\n",
              "              style=\"display:none;\">\n",
              "        \n",
              "  <svg xmlns=\"http://www.w3.org/2000/svg\" height=\"24px\"viewBox=\"0 0 24 24\"\n",
              "       width=\"24px\">\n",
              "    <path d=\"M0 0h24v24H0V0z\" fill=\"none\"/>\n",
              "    <path d=\"M18.56 5.44l.94 2.06.94-2.06 2.06-.94-2.06-.94-.94-2.06-.94 2.06-2.06.94zm-11 1L8.5 8.5l.94-2.06 2.06-.94-2.06-.94L8.5 2.5l-.94 2.06-2.06.94zm10 10l.94 2.06.94-2.06 2.06-.94-2.06-.94-.94-2.06-.94 2.06-2.06.94z\"/><path d=\"M17.41 7.96l-1.37-1.37c-.4-.4-.92-.59-1.43-.59-.52 0-1.04.2-1.43.59L10.3 9.45l-7.72 7.72c-.78.78-.78 2.05 0 2.83L4 21.41c.39.39.9.59 1.41.59.51 0 1.02-.2 1.41-.59l7.78-7.78 2.81-2.81c.8-.78.8-2.07 0-2.86zM5.41 20L4 18.59l7.72-7.72 1.47 1.35L5.41 20z\"/>\n",
              "  </svg>\n",
              "      </button>\n",
              "      \n",
              "  <style>\n",
              "    .colab-df-container {\n",
              "      display:flex;\n",
              "      flex-wrap:wrap;\n",
              "      gap: 12px;\n",
              "    }\n",
              "\n",
              "    .colab-df-convert {\n",
              "      background-color: #E8F0FE;\n",
              "      border: none;\n",
              "      border-radius: 50%;\n",
              "      cursor: pointer;\n",
              "      display: none;\n",
              "      fill: #1967D2;\n",
              "      height: 32px;\n",
              "      padding: 0 0 0 0;\n",
              "      width: 32px;\n",
              "    }\n",
              "\n",
              "    .colab-df-convert:hover {\n",
              "      background-color: #E2EBFA;\n",
              "      box-shadow: 0px 1px 2px rgba(60, 64, 67, 0.3), 0px 1px 3px 1px rgba(60, 64, 67, 0.15);\n",
              "      fill: #174EA6;\n",
              "    }\n",
              "\n",
              "    [theme=dark] .colab-df-convert {\n",
              "      background-color: #3B4455;\n",
              "      fill: #D2E3FC;\n",
              "    }\n",
              "\n",
              "    [theme=dark] .colab-df-convert:hover {\n",
              "      background-color: #434B5C;\n",
              "      box-shadow: 0px 1px 3px 1px rgba(0, 0, 0, 0.15);\n",
              "      filter: drop-shadow(0px 1px 2px rgba(0, 0, 0, 0.3));\n",
              "      fill: #FFFFFF;\n",
              "    }\n",
              "  </style>\n",
              "\n",
              "      <script>\n",
              "        const buttonEl =\n",
              "          document.querySelector('#df-8a9a73dc-1c4d-4e70-8432-d4fc0da82e58 button.colab-df-convert');\n",
              "        buttonEl.style.display =\n",
              "          google.colab.kernel.accessAllowed ? 'block' : 'none';\n",
              "\n",
              "        async function convertToInteractive(key) {\n",
              "          const element = document.querySelector('#df-8a9a73dc-1c4d-4e70-8432-d4fc0da82e58');\n",
              "          const dataTable =\n",
              "            await google.colab.kernel.invokeFunction('convertToInteractive',\n",
              "                                                     [key], {});\n",
              "          if (!dataTable) return;\n",
              "\n",
              "          const docLinkHtml = 'Like what you see? Visit the ' +\n",
              "            '<a target=\"_blank\" href=https://colab.research.google.com/notebooks/data_table.ipynb>data table notebook</a>'\n",
              "            + ' to learn more about interactive tables.';\n",
              "          element.innerHTML = '';\n",
              "          dataTable['output_type'] = 'display_data';\n",
              "          await google.colab.output.renderOutput(dataTable, element);\n",
              "          const docLink = document.createElement('div');\n",
              "          docLink.innerHTML = docLinkHtml;\n",
              "          element.appendChild(docLink);\n",
              "        }\n",
              "      </script>\n",
              "    </div>\n",
              "  </div>\n",
              "  "
            ]
          },
          "metadata": {},
          "execution_count": 5
        }
      ]
    },
    {
      "cell_type": "markdown",
      "source": [
        "בדיקת סוג הנתונים בכל עמודה"
      ],
      "metadata": {
        "id": "LSQ22R9P66V4"
      }
    },
    {
      "cell_type": "code",
      "source": [
        "artist.dtypes"
      ],
      "metadata": {
        "colab": {
          "base_uri": "https://localhost:8080/"
        },
        "id": "hRXwXIJf6kmK",
        "outputId": "efafc327-4c08-485a-a568-19aa1c7395d4"
      },
      "execution_count": null,
      "outputs": [
        {
          "output_type": "execute_result",
          "data": {
            "text/plain": [
              "id             object\n",
              "followers     float64\n",
              "genres         object\n",
              "name           object\n",
              "popularity      int64\n",
              "dtype: object"
            ]
          },
          "metadata": {},
          "execution_count": 7
        }
      ]
    },
    {
      "cell_type": "code",
      "source": [
        "artist.tail(5)"
      ],
      "metadata": {
        "id": "5omq1kT97EPh",
        "colab": {
          "base_uri": "https://localhost:8080/",
          "height": 206
        },
        "outputId": "e58f098e-d925-4744-ca57-36c212582e94"
      },
      "execution_count": null,
      "outputs": [
        {
          "output_type": "execute_result",
          "data": {
            "text/plain": [
              "                             id  followers                 genres  \\\n",
              "1104344  6rJIG42vcWAf1UBdRFlQxB     3345.0                     []   \n",
              "1104345  1ljurfXKPlGncNdW3J8zJ8     2123.0  ['deep acoustic pop']   \n",
              "1104346  2vnT9YhKIvjVo9LnVjWmr2       26.0                     []   \n",
              "1104347  3ID0E5XCvnJIYZEq043ZoB      406.0                     []   \n",
              "1104348  5m0Y4WSYyai2BU752lCASy      146.0                     []   \n",
              "\n",
              "                         name  popularity  \n",
              "1104344            Cody Longo           8  \n",
              "1104345       Right the Stars          18  \n",
              "1104346        Jesse Giddings           0  \n",
              "1104347  The Boy Band Project           0  \n",
              "1104348            10 Reasons           1  "
            ],
            "text/html": [
              "\n",
              "  <div id=\"df-101812d0-e37c-4e58-97af-23f15de895ed\">\n",
              "    <div class=\"colab-df-container\">\n",
              "      <div>\n",
              "<style scoped>\n",
              "    .dataframe tbody tr th:only-of-type {\n",
              "        vertical-align: middle;\n",
              "    }\n",
              "\n",
              "    .dataframe tbody tr th {\n",
              "        vertical-align: top;\n",
              "    }\n",
              "\n",
              "    .dataframe thead th {\n",
              "        text-align: right;\n",
              "    }\n",
              "</style>\n",
              "<table border=\"1\" class=\"dataframe\">\n",
              "  <thead>\n",
              "    <tr style=\"text-align: right;\">\n",
              "      <th></th>\n",
              "      <th>id</th>\n",
              "      <th>followers</th>\n",
              "      <th>genres</th>\n",
              "      <th>name</th>\n",
              "      <th>popularity</th>\n",
              "    </tr>\n",
              "  </thead>\n",
              "  <tbody>\n",
              "    <tr>\n",
              "      <th>1104344</th>\n",
              "      <td>6rJIG42vcWAf1UBdRFlQxB</td>\n",
              "      <td>3345.0</td>\n",
              "      <td>[]</td>\n",
              "      <td>Cody Longo</td>\n",
              "      <td>8</td>\n",
              "    </tr>\n",
              "    <tr>\n",
              "      <th>1104345</th>\n",
              "      <td>1ljurfXKPlGncNdW3J8zJ8</td>\n",
              "      <td>2123.0</td>\n",
              "      <td>['deep acoustic pop']</td>\n",
              "      <td>Right the Stars</td>\n",
              "      <td>18</td>\n",
              "    </tr>\n",
              "    <tr>\n",
              "      <th>1104346</th>\n",
              "      <td>2vnT9YhKIvjVo9LnVjWmr2</td>\n",
              "      <td>26.0</td>\n",
              "      <td>[]</td>\n",
              "      <td>Jesse Giddings</td>\n",
              "      <td>0</td>\n",
              "    </tr>\n",
              "    <tr>\n",
              "      <th>1104347</th>\n",
              "      <td>3ID0E5XCvnJIYZEq043ZoB</td>\n",
              "      <td>406.0</td>\n",
              "      <td>[]</td>\n",
              "      <td>The Boy Band Project</td>\n",
              "      <td>0</td>\n",
              "    </tr>\n",
              "    <tr>\n",
              "      <th>1104348</th>\n",
              "      <td>5m0Y4WSYyai2BU752lCASy</td>\n",
              "      <td>146.0</td>\n",
              "      <td>[]</td>\n",
              "      <td>10 Reasons</td>\n",
              "      <td>1</td>\n",
              "    </tr>\n",
              "  </tbody>\n",
              "</table>\n",
              "</div>\n",
              "      <button class=\"colab-df-convert\" onclick=\"convertToInteractive('df-101812d0-e37c-4e58-97af-23f15de895ed')\"\n",
              "              title=\"Convert this dataframe to an interactive table.\"\n",
              "              style=\"display:none;\">\n",
              "        \n",
              "  <svg xmlns=\"http://www.w3.org/2000/svg\" height=\"24px\"viewBox=\"0 0 24 24\"\n",
              "       width=\"24px\">\n",
              "    <path d=\"M0 0h24v24H0V0z\" fill=\"none\"/>\n",
              "    <path d=\"M18.56 5.44l.94 2.06.94-2.06 2.06-.94-2.06-.94-.94-2.06-.94 2.06-2.06.94zm-11 1L8.5 8.5l.94-2.06 2.06-.94-2.06-.94L8.5 2.5l-.94 2.06-2.06.94zm10 10l.94 2.06.94-2.06 2.06-.94-2.06-.94-.94-2.06-.94 2.06-2.06.94z\"/><path d=\"M17.41 7.96l-1.37-1.37c-.4-.4-.92-.59-1.43-.59-.52 0-1.04.2-1.43.59L10.3 9.45l-7.72 7.72c-.78.78-.78 2.05 0 2.83L4 21.41c.39.39.9.59 1.41.59.51 0 1.02-.2 1.41-.59l7.78-7.78 2.81-2.81c.8-.78.8-2.07 0-2.86zM5.41 20L4 18.59l7.72-7.72 1.47 1.35L5.41 20z\"/>\n",
              "  </svg>\n",
              "      </button>\n",
              "      \n",
              "  <style>\n",
              "    .colab-df-container {\n",
              "      display:flex;\n",
              "      flex-wrap:wrap;\n",
              "      gap: 12px;\n",
              "    }\n",
              "\n",
              "    .colab-df-convert {\n",
              "      background-color: #E8F0FE;\n",
              "      border: none;\n",
              "      border-radius: 50%;\n",
              "      cursor: pointer;\n",
              "      display: none;\n",
              "      fill: #1967D2;\n",
              "      height: 32px;\n",
              "      padding: 0 0 0 0;\n",
              "      width: 32px;\n",
              "    }\n",
              "\n",
              "    .colab-df-convert:hover {\n",
              "      background-color: #E2EBFA;\n",
              "      box-shadow: 0px 1px 2px rgba(60, 64, 67, 0.3), 0px 1px 3px 1px rgba(60, 64, 67, 0.15);\n",
              "      fill: #174EA6;\n",
              "    }\n",
              "\n",
              "    [theme=dark] .colab-df-convert {\n",
              "      background-color: #3B4455;\n",
              "      fill: #D2E3FC;\n",
              "    }\n",
              "\n",
              "    [theme=dark] .colab-df-convert:hover {\n",
              "      background-color: #434B5C;\n",
              "      box-shadow: 0px 1px 3px 1px rgba(0, 0, 0, 0.15);\n",
              "      filter: drop-shadow(0px 1px 2px rgba(0, 0, 0, 0.3));\n",
              "      fill: #FFFFFF;\n",
              "    }\n",
              "  </style>\n",
              "\n",
              "      <script>\n",
              "        const buttonEl =\n",
              "          document.querySelector('#df-101812d0-e37c-4e58-97af-23f15de895ed button.colab-df-convert');\n",
              "        buttonEl.style.display =\n",
              "          google.colab.kernel.accessAllowed ? 'block' : 'none';\n",
              "\n",
              "        async function convertToInteractive(key) {\n",
              "          const element = document.querySelector('#df-101812d0-e37c-4e58-97af-23f15de895ed');\n",
              "          const dataTable =\n",
              "            await google.colab.kernel.invokeFunction('convertToInteractive',\n",
              "                                                     [key], {});\n",
              "          if (!dataTable) return;\n",
              "\n",
              "          const docLinkHtml = 'Like what you see? Visit the ' +\n",
              "            '<a target=\"_blank\" href=https://colab.research.google.com/notebooks/data_table.ipynb>data table notebook</a>'\n",
              "            + ' to learn more about interactive tables.';\n",
              "          element.innerHTML = '';\n",
              "          dataTable['output_type'] = 'display_data';\n",
              "          await google.colab.output.renderOutput(dataTable, element);\n",
              "          const docLink = document.createElement('div');\n",
              "          docLink.innerHTML = docLinkHtml;\n",
              "          element.appendChild(docLink);\n",
              "        }\n",
              "      </script>\n",
              "    </div>\n",
              "  </div>\n",
              "  "
            ]
          },
          "metadata": {},
          "execution_count": 9
        }
      ]
    },
    {
      "cell_type": "code",
      "source": [
        "\"this a title\".upper().center(20,'*')"
      ],
      "metadata": {
        "id": "WtVNEN0_QlKL",
        "outputId": "f5caf4ba-cfc1-4f02-a315-b2457f96e51e",
        "colab": {
          "base_uri": "https://localhost:8080/",
          "height": 35
        }
      },
      "execution_count": null,
      "outputs": [
        {
          "output_type": "execute_result",
          "data": {
            "text/plain": [
              "'****THIS A TITLE****'"
            ],
            "application/vnd.google.colaboratory.intrinsic+json": {
              "type": "string"
            }
          },
          "metadata": {},
          "execution_count": 15
        }
      ]
    },
    {
      "cell_type": "markdown",
      "source": [
        "יצירת שתי רשימות לדוגמה (אחת של מס' ואחץ של מחרוזות)"
      ],
      "metadata": {
        "id": "gd3o1X7jT08E"
      }
    },
    {
      "cell_type": "code",
      "source": [
        "series_of_numbers = pd.Series([1,4,20,45,32,8])\n",
        "series_of_strings = pd.Series(['a','this','apple','Love','Water','is'])"
      ],
      "metadata": {
        "id": "Qwa-4Q6hTJnJ"
      },
      "execution_count": 14,
      "outputs": []
    },
    {
      "cell_type": "markdown",
      "source": [
        "הדפסת רשימת המחרוזות"
      ],
      "metadata": {
        "id": "OCgksFULT989"
      }
    },
    {
      "cell_type": "code",
      "source": [
        "print(series_of_strings)"
      ],
      "metadata": {
        "id": "KEJdvWzkTn6R",
        "outputId": "562ae1c5-d2a3-4514-9e97-8ddb7c36587b",
        "colab": {
          "base_uri": "https://localhost:8080/"
        }
      },
      "execution_count": 15,
      "outputs": [
        {
          "output_type": "stream",
          "name": "stdout",
          "text": [
            "0        a\n",
            "1     this\n",
            "2    apple\n",
            "3     Love\n",
            "4    Water\n",
            "5       is\n",
            "dtype: object\n"
          ]
        }
      ]
    },
    {
      "cell_type": "markdown",
      "source": [
        "מיון רשימת המחרוזות"
      ],
      "metadata": {
        "id": "EZiKmk-wVdJx"
      }
    },
    {
      "cell_type": "code",
      "source": [
        "sorted_series = series_of_strings.sort_values()"
      ],
      "metadata": {
        "id": "FxiHWSoATzX4"
      },
      "execution_count": 16,
      "outputs": []
    },
    {
      "cell_type": "code",
      "source": [
        "print(sorted_series)"
      ],
      "metadata": {
        "id": "RcJlTAuOVhW9",
        "outputId": "d2bf4f63-81ec-4faf-c0c6-fa1eed1dcce7",
        "colab": {
          "base_uri": "https://localhost:8080/"
        }
      },
      "execution_count": 17,
      "outputs": [
        {
          "output_type": "stream",
          "name": "stdout",
          "text": [
            "3     Love\n",
            "4    Water\n",
            "0        a\n",
            "2    apple\n",
            "5       is\n",
            "1     this\n",
            "dtype: object\n"
          ]
        }
      ]
    },
    {
      "cell_type": "markdown",
      "source": [
        "loc הדפסת ההמחרוזות עם מיקום 0 דרך פונקציית "
      ],
      "metadata": {
        "id": "f8Os11LTWSB8"
      }
    },
    {
      "cell_type": "code",
      "source": [
        "print(series_of_strings.loc[0])\n",
        "print(sorted_series.loc[0])"
      ],
      "metadata": {
        "id": "5whIB788VvCz",
        "outputId": "fe5df964-a6ad-4f54-c6f6-0046d9316590",
        "colab": {
          "base_uri": "https://localhost:8080/"
        }
      },
      "execution_count": 18,
      "outputs": [
        {
          "output_type": "stream",
          "name": "stdout",
          "text": [
            "a\n",
            "a\n"
          ]
        }
      ]
    },
    {
      "cell_type": "code",
      "source": [
        "print(series_of_strings)\n",
        "print(sorted_series)"
      ],
      "metadata": {
        "id": "ZTcf0dnQX8fC",
        "outputId": "56bbbed5-4c32-4d9f-fd1f-654ba8675da7",
        "colab": {
          "base_uri": "https://localhost:8080/"
        }
      },
      "execution_count": 19,
      "outputs": [
        {
          "output_type": "stream",
          "name": "stdout",
          "text": [
            "0        a\n",
            "1     this\n",
            "2    apple\n",
            "3     Love\n",
            "4    Water\n",
            "5       is\n",
            "dtype: object\n",
            "3     Love\n",
            "4    Water\n",
            "0        a\n",
            "2    apple\n",
            "5       is\n",
            "1     this\n",
            "dtype: object\n"
          ]
        }
      ]
    },
    {
      "cell_type": "markdown",
      "source": [
        "iloc הדפסת הרשימות בעזרת "
      ],
      "metadata": {
        "id": "9bk4q-vJZI1x"
      }
    },
    {
      "cell_type": "code",
      "source": [
        "print(series_of_strings.iloc[0])\n",
        "print(sorted_series.iloc[0])"
      ],
      "metadata": {
        "id": "BgzfHMdFX_5Q",
        "outputId": "ba13c9bb-2a28-41a9-82c9-91e936f4f6a8",
        "colab": {
          "base_uri": "https://localhost:8080/"
        }
      },
      "execution_count": 20,
      "outputs": [
        {
          "output_type": "stream",
          "name": "stdout",
          "text": [
            "a\n",
            "Love\n"
          ]
        }
      ]
    },
    {
      "cell_type": "code",
      "source": [
        "print(series_of_strings)\n",
        "print()\n",
        "print(sorted_series)"
      ],
      "metadata": {
        "id": "MjltdIYuYmsV",
        "outputId": "0dcb6433-b087-4d80-dadb-9c314442949b",
        "colab": {
          "base_uri": "https://localhost:8080/"
        }
      },
      "execution_count": 28,
      "outputs": [
        {
          "output_type": "stream",
          "name": "stdout",
          "text": [
            "0        a\n",
            "1     this\n",
            "2    apple\n",
            "3     Love\n",
            "4    Water\n",
            "5       is\n",
            "dtype: object\n",
            "\n",
            "3     Love\n",
            "4    Water\n",
            "0        a\n",
            "2    apple\n",
            "5       is\n",
            "1     this\n",
            "dtype: object\n"
          ]
        }
      ]
    },
    {
      "cell_type": "markdown",
      "source": [
        "slicing"
      ],
      "metadata": {
        "id": "Thy6r1x6ZpOW"
      }
    },
    {
      "cell_type": "code",
      "source": [
        "print(series_of_strings.iloc[2:4])\n",
        "print()\n",
        "print(sorted_series.iloc[2:4])\n",
        "print()\n",
        "print(series_of_strings[2:4])"
      ],
      "metadata": {
        "id": "NDWeEKooZQxR",
        "outputId": "c81304a6-d895-4b17-f530-70a4e5292fd6",
        "colab": {
          "base_uri": "https://localhost:8080/"
        }
      },
      "execution_count": 80,
      "outputs": [
        {
          "output_type": "stream",
          "name": "stdout",
          "text": [
            "third     apple\n",
            "fourth     Love\n",
            "dtype: object\n",
            "\n",
            "0        a\n",
            "2    apple\n",
            "dtype: object\n",
            "\n",
            "third     apple\n",
            "fourth     Love\n",
            "dtype: object\n"
          ]
        }
      ]
    },
    {
      "cell_type": "markdown",
      "source": [
        "שינוי ערך האינדקסים על פי הצורך"
      ],
      "metadata": {
        "id": "nR6vdI16aISp"
      }
    },
    {
      "cell_type": "code",
      "source": [
        "series_of_strings.index = ['first','secend','third','fourth','fifth','sixth']"
      ],
      "metadata": {
        "id": "b64CSqNIZsKN"
      },
      "execution_count": 31,
      "outputs": []
    },
    {
      "cell_type": "code",
      "source": [
        "series_of_strings.loc['secend']"
      ],
      "metadata": {
        "id": "DHI9KpwVaDIz",
        "outputId": "734c96ec-7303-4b22-db35-00df62771d8e",
        "colab": {
          "base_uri": "https://localhost:8080/",
          "height": 35
        }
      },
      "execution_count": 35,
      "outputs": [
        {
          "output_type": "execute_result",
          "data": {
            "text/plain": [
              "'this'"
            ],
            "application/vnd.google.colaboratory.intrinsic+json": {
              "type": "string"
            }
          },
          "metadata": {},
          "execution_count": 35
        }
      ]
    },
    {
      "cell_type": "code",
      "source": [
        "print(series_of_strings)\n",
        "print()\n",
        "print(series_of_strings.iloc[2::2])"
      ],
      "metadata": {
        "id": "iFWoVivMaG0e",
        "outputId": "41d5dc0e-5762-48a7-b3f5-099ebaa85ae5",
        "colab": {
          "base_uri": "https://localhost:8080/"
        }
      },
      "execution_count": 38,
      "outputs": [
        {
          "output_type": "stream",
          "name": "stdout",
          "text": [
            "first         a\n",
            "secend     this\n",
            "third     apple\n",
            "fourth     Love\n",
            "fifth     Water\n",
            "sixth        is\n",
            "dtype: object\n",
            "\n",
            "third    apple\n",
            "fifth    Water\n",
            "dtype: object\n"
          ]
        }
      ]
    },
    {
      "cell_type": "code",
      "source": [
        " new_series_of_strings = pd.Series(['this','is','a','Pandas','Series'])"
      ],
      "metadata": {
        "id": "FNJJ2jcafU5j"
      },
      "execution_count": 53,
      "outputs": []
    },
    {
      "cell_type": "code",
      "source": [
        "new_sorted = new_series_of_strings.sort_values()"
      ],
      "metadata": {
        "id": "ngk5cgDRfjOo"
      },
      "execution_count": 44,
      "outputs": []
    },
    {
      "cell_type": "code",
      "source": [
        "print(new_sorted)"
      ],
      "metadata": {
        "id": "mqYuM0zkgBuB",
        "outputId": "4664959c-b1bf-4214-d4cc-71d59c5412f9",
        "colab": {
          "base_uri": "https://localhost:8080/"
        }
      },
      "execution_count": 45,
      "outputs": [
        {
          "output_type": "stream",
          "name": "stdout",
          "text": [
            "3    Pandas\n",
            "4    Series\n",
            "2         a\n",
            "1        is\n",
            "0      this\n",
            "dtype: object\n"
          ]
        }
      ]
    },
    {
      "cell_type": "markdown",
      "source": [
        "iloc יוצרים רשימה לפי מיקומים דרך פונקציית "
      ],
      "metadata": {
        "id": "D0kx8ZrniTnG"
      }
    },
    {
      "cell_type": "code",
      "source": [
        "print(new_series_of_strings.iloc[[3,1,2,3,4]])\n"
      ],
      "metadata": {
        "id": "uDZcw6JUff0B",
        "outputId": "ba6de86f-9724-4544-d471-07880f914739",
        "colab": {
          "base_uri": "https://localhost:8080/"
        }
      },
      "execution_count": 60,
      "outputs": [
        {
          "output_type": "stream",
          "name": "stdout",
          "text": [
            "3    Pandas\n",
            "1        is\n",
            "2         a\n",
            "3    Pandas\n",
            "4    Series\n",
            "dtype: object\n"
          ]
        }
      ]
    },
    {
      "cell_type": "markdown",
      "source": [
        "ביצוע שליפה רגיל של הרשימת מחרוזות, ואז ביצוע שליפה מיוחד"
      ],
      "metadata": {
        "id": "48ugC5e0lYCw"
      }
    },
    {
      "cell_type": "code",
      "source": [
        "print(new_series_of_strings)\n",
        "print()\n",
        "new_series_of_strings.index = ['first','secend','secend','secend','fifth']\n",
        "print(new_series_of_strings['secend'])"
      ],
      "metadata": {
        "id": "jcQSrhAklMzW",
        "outputId": "9960a8f6-6fbe-4f86-ea9d-3abefb54fc9e",
        "colab": {
          "base_uri": "https://localhost:8080/"
        }
      },
      "execution_count": 86,
      "outputs": [
        {
          "output_type": "stream",
          "name": "stdout",
          "text": [
            "first       this\n",
            "secend        is\n",
            "secend         a\n",
            "secend    Pandas\n",
            "fifth     Series\n",
            "dtype: object\n",
            "\n",
            "secend        is\n",
            "secend         a\n",
            "secend    Pandas\n",
            "dtype: object\n"
          ]
        }
      ]
    }
  ]
}